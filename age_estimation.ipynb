{
 "cells": [
  {
   "cell_type": "code",
   "execution_count": null,
   "metadata": {},
   "outputs": [],
   "source": [
    "#محمود ابوالحسن عبدالحميد\n",
    "#محمد فريد محمد ابوالدهب"
   ]
  },
  {
   "cell_type": "code",
   "execution_count": null,
   "metadata": {},
   "outputs": [],
   "source": [
    "import cv2\n",
    "MODEL_MAIN_VALUE = ( 78.4263377603, 87.7689143744, 114.895847746 )\n",
    "age_list =['0,2','4,6','8,12','15,20','25,32','38,43','48,53',\n",
    "           '60,100']\n",
    "def initialize_caffe_models():\n",
    "    age_net = cv2.dnn.readNetFromCaffe(\n",
    "        'age_deploy.prototxt','age_net.caffemodel')\n",
    "    return (age_net)\n",
    "def red_from_image(age_net):\n",
    "    font = cv2.FONT_HERSHEY_SIMPLEX\n",
    "   #اسم الصوره في نفس الملف\n",
    "    picture = input(\"inter your image\")\n",
    "    image = cv2.imread(picture)\n",
    "    face_cascade = cv2.CascadeClassifier(\n",
    "        'haarcascade_frontalface_alt.xml')\n",
    "    gray = cv2.cvtColor(image, cv2.COLOR_BGR2GRAY)\n",
    "    faces = face_cascade.detectMultiScale(gray, 1.1, 5)\n",
    "    if(len(faces)>0):\n",
    "        print(\"found {} faces\".format(str(len(faces))))\n",
    "        for ( x , y , w , h)in faces:\n",
    "            cv2.rectangle(image ,(x,y),(x+w,y+h),(255,255,0),2)\n",
    "            \n",
    "            face_img = image[y:y+h,h:h+w].copy()\n",
    "            blob = cv2.dnn.blobFromImage(face_img,1,\n",
    "                    (227,227),MODEL_MAIN_VALUE,swapRB=False)\n",
    "            \n",
    "            age_net.setInput(blob)\n",
    "            age_preds = age_net.forward()\n",
    "            age = age_list[age_preds[0].argmax()]\n",
    "            print(\"age range\" + age)\n",
    "            overlay_text = (age)\n",
    "            cv2.putText(image,overlay_text, (x,y),\n",
    "            font, 0.5 , (100,100,225), 2,cv2.LINE_AA  )\n",
    "            cv2.imshow(\"\",image)\n",
    "            k = cv2.waitKey(0)\n",
    "            if k == 27 :\n",
    "              cv2.destroyAllWindows()\n",
    "           \n",
    "            \n",
    "            #main\n",
    "if __name__==\"__main__\":\n",
    "\n",
    "    age_net = initialize_caffe_models()\n",
    "    red_from_image(age_net)\n",
    "            \n",
    "    \n",
    "    \n"
   ]
  },
  {
   "cell_type": "code",
   "execution_count": null,
   "metadata": {},
   "outputs": [],
   "source": []
  }
 ],
 "metadata": {
  "kernelspec": {
   "display_name": "Python 3",
   "language": "python",
   "name": "python3"
  },
  "language_info": {
   "codemirror_mode": {
    "name": "ipython",
    "version": 3
   },
   "file_extension": ".py",
   "mimetype": "text/x-python",
   "name": "python",
   "nbconvert_exporter": "python",
   "pygments_lexer": "ipython3",
   "version": "3.8.3"
  }
 },
 "nbformat": 4,
 "nbformat_minor": 4
}
